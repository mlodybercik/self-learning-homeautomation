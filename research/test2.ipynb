{
 "cells": [
  {
   "cell_type": "code",
   "execution_count": 17,
   "metadata": {},
   "outputs": [],
   "source": [
    "import string\n",
    "import numpy as np\n",
    "import networkx as nx\n",
    "import random\n",
    "import matplotlib\n",
    "import matplotlib.pyplot as plt\n",
    "import string\n",
    "import pycspade\n",
    "from sequential.seq2pat import Seq2Pat\n",
    "from gsppy.gsp import GSP\n",
    "from pprint import pprint\n",
    "from collections import defaultdict\n",
    "from itertools import tee\n",
    "\n",
    "MAX_STATES = 6\n",
    "POSSIBLE_STATES = string.ascii_uppercase\n",
    "assert MAX_STATES <= len(POSSIBLE_STATES), \"debilu\"\n",
    "N_OF_STATES = 2**MAX_STATES\n",
    "\n",
    "STATE_MAP = {i: string.ascii_lowercase[i] for i in range(MAX_STATES)}\n",
    "\n",
    "def pairwise(i):\n",
    "    a, b = tee(i)\n",
    "    next(b, None)\n",
    "    return zip(a, b)\n",
    "\n",
    "\n",
    "# Choose colormap\n",
    "cmap = plt.cm.RdBu\n",
    "\n",
    "# Get the colormap colors\n",
    "my_cmap = cmap(np.arange(cmap.N))\n",
    "\n",
    "# Set alpha\n",
    "my_cmap[:,-1] = np.linspace(0, 1, cmap.N)\n",
    "\n",
    "# Create new colormap\n",
    "my_cmap = matplotlib.colors.ListedColormap(my_cmap)"
   ]
  },
  {
   "cell_type": "code",
   "execution_count": 52,
   "metadata": {},
   "outputs": [],
   "source": [
    "def generate_random_episode(chance: float):\n",
    "    possible_states = list(POSSIBLE_STATES[:MAX_STATES])\n",
    "    episode = []\n",
    "    first = True\n",
    "    while first or (random.random() > chance and len(possible_states)):\n",
    "        pick = random.randint(0, len(possible_states) - 1)\n",
    "        episode.append(possible_states[pick])\n",
    "        del possible_states[pick]\n",
    "        first = False\n",
    " \n",
    "    return episode\n",
    "\n",
    "def to_cspade_format(episodes: list):\n",
    "    return [(0, i, episode) for i, episode in enumerate(episodes)]"
   ]
  },
  {
   "cell_type": "code",
   "execution_count": 71,
   "metadata": {},
   "outputs": [
    {
     "name": "stdout",
     "output_type": "stream",
     "text": [
      "127\n"
     ]
    }
   ],
   "source": [
    "episodes = []\n",
    "for i in range(100):\n",
    "    episodes.append(generate_random_episode(0.5))\n",
    "    if not (i % 5):\n",
    "        episodes.append([\"A\", \"B\", \"C\", \"D\", \"E\"])\n",
    "    if not (i % 15):\n",
    "        episodes.append([\"A\", \"E\", \"B\"])\n",
    "print(len(episodes))"
   ]
  },
  {
   "cell_type": "code",
   "execution_count": 72,
   "metadata": {},
   "outputs": [],
   "source": [
    "s2p = Seq2Pat(sequences=episodes)"
   ]
  },
  {
   "cell_type": "code",
   "execution_count": 74,
   "metadata": {},
   "outputs": [
    {
     "data": {
      "text/plain": [
       "[['A', 'B', 34],\n",
       " ['A', 'E', 34],\n",
       " ['A', 'C', 30],\n",
       " ['A', 'D', 29],\n",
       " ['B', 'C', 28],\n",
       " ['C', 'D', 27],\n",
       " ['B', 'D', 26],\n",
       " ['D', 'E', 25],\n",
       " ['B', 'E', 24],\n",
       " ['A', 'C', 'D', 23],\n",
       " ['A', 'B', 'E', 22],\n",
       " ['A', 'C', 'E', 22],\n",
       " ['B', 'C', 'D', 22],\n",
       " ['C', 'E', 22],\n",
       " ['A', 'B', 'D', 21],\n",
       " ['A', 'C', 'D', 'E', 21],\n",
       " ['A', 'D', 'E', 21],\n",
       " ['C', 'D', 'E', 21],\n",
       " ['A', 'B', 'C', 20],\n",
       " ['A', 'B', 'C', 'D', 20],\n",
       " ['A', 'B', 'C', 'D', 'E', 20],\n",
       " ['A', 'B', 'C', 'E', 20],\n",
       " ['A', 'B', 'D', 'E', 20],\n",
       " ['B', 'C', 'D', 'E', 20],\n",
       " ['B', 'C', 'E', 20],\n",
       " ['B', 'D', 'E', 20],\n",
       " ['E', 'B', 16],\n",
       " ['D', 'B', 11],\n",
       " ['A', 'E', 'B', 10]]"
      ]
     },
     "execution_count": 74,
     "metadata": {},
     "output_type": "execute_result"
    }
   ],
   "source": [
    "s2p.get_patterns(10)"
   ]
  },
  {
   "cell_type": "code",
   "execution_count": 75,
   "metadata": {},
   "outputs": [
    {
     "name": "stderr",
     "output_type": "stream",
     "text": [
      "can't open data file: /tmp/cspade-xX0juuQTs464vKkz.tpose"
     ]
    },
    {
     "ename": "RuntimeError",
     "evalue": "can't open data file: /tmp/cspade-xX0juuQTs464vKkz.tpose",
     "output_type": "error",
     "traceback": [
      "\u001b[0;31m---------------------------------------------------------------------------\u001b[0m",
      "\u001b[0;31mRuntimeError\u001b[0m                              Traceback (most recent call last)",
      "\u001b[1;32m/vault/all/pwr/semestr_7/praca_dyplomowa/research/test2.ipynb Cell 6\u001b[0m line \u001b[0;36m1\n\u001b[0;32m----> <a href='vscode-notebook-cell://ssh-remote%2Bserwer.local/vault/all/pwr/semestr_7/praca_dyplomowa/research/test2.ipynb#W6sdnNjb2RlLXJlbW90ZQ%3D%3D?line=0'>1</a>\u001b[0m result \u001b[39m=\u001b[39m pycspade\u001b[39m.\u001b[39;49mspade(data\u001b[39m=\u001b[39;49mto_cspade_format(episodes), support\u001b[39m=\u001b[39;49m\u001b[39m0.3\u001b[39;49m, maxlen\u001b[39m=\u001b[39;49mMAX_STATES)\n",
      "File \u001b[0;32m~/.local/share/virtualenvs/praca_dyplomowa-Y0s-XG3X/lib/python3.9/site-packages/pycspade/helpers.py:154\u001b[0m, in \u001b[0;36mspade\u001b[0;34m(filename, data, support, maxsize, maxlen, mingap, maxgap, memsize, numpart, maxwin, bfstype, tid_lists, parse)\u001b[0m\n\u001b[1;32m    151\u001b[0m             f\u001b[39m.\u001b[39mwrite(\u001b[39m'\u001b[39m\u001b[39m\\n\u001b[39;00m\u001b[39m'\u001b[39m)\n\u001b[1;32m    153\u001b[0m \u001b[39mtry\u001b[39;00m:\n\u001b[0;32m--> 154\u001b[0m     result \u001b[39m=\u001b[39m c_runspade(filename, support, maxsize, maxlen, mingap, maxgap, memsize, numpart, maxwin, bfstype,\n\u001b[1;32m    155\u001b[0m                         tid_lists)\n\u001b[1;32m    156\u001b[0m     decode_result(result)\n\u001b[1;32m    157\u001b[0m     \u001b[39mif\u001b[39;00m parse:\n",
      "File \u001b[0;32mpycspade/cspade.pyx:42\u001b[0m, in \u001b[0;36mpycspade.cspade.c_runspade\u001b[0;34m()\u001b[0m\n",
      "\u001b[0;31mRuntimeError\u001b[0m: can't open data file: /tmp/cspade-xX0juuQTs464vKkz.tpose"
     ]
    }
   ],
   "source": [
    "result = pycspade.spade(data=to_cspade_format(episodes), support=0.3, maxlen=MAX_STATES)"
   ]
  },
  {
   "cell_type": "code",
   "execution_count": 76,
   "metadata": {},
   "outputs": [],
   "source": [
    "result = GSP(episodes).search(0.1)"
   ]
  },
  {
   "cell_type": "code",
   "execution_count": 77,
   "metadata": {},
   "outputs": [
    {
     "data": {
      "text/plain": [
       "[{('A',): 60, ('E',): 57, ('F',): 34, ('C',): 50, ('B',): 61, ('D',): 58},\n",
       " {('A', 'B'): 21, ('B', 'C'): 23, ('C', 'D'): 27, ('D', 'E'): 23},\n",
       " {('A', 'B', 'C'): 20, ('B', 'C', 'D'): 21, ('C', 'D', 'E'): 20},\n",
       " {('A', 'B', 'C', 'D'): 20, ('B', 'C', 'D', 'E'): 20},\n",
       " {('A', 'B', 'C', 'D', 'E'): 20}]"
      ]
     },
     "execution_count": 77,
     "metadata": {},
     "output_type": "execute_result"
    }
   ],
   "source": [
    "result"
   ]
  },
  {
   "cell_type": "code",
   "execution_count": null,
   "metadata": {},
   "outputs": [],
   "source": []
  }
 ],
 "metadata": {
  "kernelspec": {
   "display_name": "praca_dyplomowa-Y0s-XG3X",
   "language": "python",
   "name": "python3"
  },
  "language_info": {
   "codemirror_mode": {
    "name": "ipython",
    "version": 3
   },
   "file_extension": ".py",
   "mimetype": "text/x-python",
   "name": "python",
   "nbconvert_exporter": "python",
   "pygments_lexer": "ipython3",
   "version": "3.9.5"
  }
 },
 "nbformat": 4,
 "nbformat_minor": 2
}
